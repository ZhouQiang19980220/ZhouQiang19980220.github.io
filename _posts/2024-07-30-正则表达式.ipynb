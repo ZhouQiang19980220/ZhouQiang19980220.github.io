{
 "cells": [
  {
   "cell_type": "markdown",
   "metadata": {},
   "source": [
    "# 入门\n",
    "## 元字符\n",
    "- `\\b` 匹配单词边界\n",
    "    - `\\bword\\b` 匹配独立的单词 \"word\"。\n",
    "    - `\\bword` 匹配以 \"word\" 开头的单词。\n",
    "    - `word\\b` 匹配以 \"word\" 结尾的单词。"
   ]
  },
  {
   "cell_type": "code",
   "execution_count": null,
   "metadata": {},
   "outputs": [],
   "source": [
    "import re\n",
    "\n",
    "# 示例文本\n",
    "text = \"This is a test. Testing the word boundary.\"\n",
    "\n",
    "# 匹配独立的单词 \"test\"\n",
    "pattern = r'\\btest\\b'\n",
    "matches = re.findall(pattern, text)\n",
    "print(\"匹配独立的单词 'test':\", matches)\n",
    "\n",
    "# 匹配以 \"test\" 开头的单词\n",
    "pattern = r'\\btest'\n",
    "matches = re.findall(pattern, text)\n",
    "print(\"匹配以 'test' 开头的单词:\", matches)\n",
    "\n",
    "# 匹配以 \"test\" 结尾的单词\n",
    "pattern = r'test\\b'\n",
    "matches = re.findall(pattern, text)\n",
    "print(\"匹配以 'test' 结尾的单词:\", matches)\n"
   ]
  },
  {
   "cell_type": "markdown",
   "metadata": {},
   "source": [
    "- `.`除了换行符以外的任意字符"
   ]
  },
  {
   "cell_type": "code",
   "execution_count": null,
   "metadata": {},
   "outputs": [],
   "source": [
    "import re\n",
    "\n",
    "# 示例文本\n",
    "text = \"cat bat rat mat\"\n",
    "\n",
    "# 匹配以`at`结尾，任意字符开头的，包含三个字母的字符串\n",
    "pattern = r'.at'\n",
    "matches = re.findall(pattern, text)\n",
    "print(\"匹配结果:\", matches)"
   ]
  },
  {
   "cell_type": "markdown",
   "metadata": {},
   "source": [
    "- `*`前面的字符或子模式可以重复零次或多次"
   ]
  },
  {
   "cell_type": "code",
   "execution_count": null,
   "metadata": {},
   "outputs": [],
   "source": [
    "import re\n",
    "\n",
    "# 示例文本\n",
    "text = \"aaa ab aab abb b\"\n",
    "\n",
    "# 匹配0个或者多个'a'后面跟了一个'b'\n",
    "pattern = r'a*b'\n",
    "matches = re.findall(pattern, text)\n",
    "print(\"匹配结果:\", matches)"
   ]
  },
  {
   "cell_type": "markdown",
   "metadata": {},
   "source": [
    "**结果分析**\n",
    "'abb'：匹配，因为有一个 a 后面跟一个 b。这里匹配的是 ab，剩下的 b 还会继续匹配。\n",
    "\n",
    "**思考**\n",
    "下面的正则表达式匹配什么？\n",
    "'\\bhi\\b.*\\bluck\\b'\n",
    "\n",
    "**结果分析**\n",
    "上述字符串匹配的内容是:单词'hi'，后面跟随任意字符(但是不能换行)，最后跟随单词'luck'。\n"
   ]
  },
  {
   "cell_type": "code",
   "execution_count": null,
   "metadata": {},
   "outputs": [],
   "source": [
    "import re\n",
    "\n",
    "text1 = 'hi i am luck'\n",
    "text2 = 'hit luck'\n",
    "\n",
    "pattern = r'\\bhi\\b.*\\bluck\\b'\n",
    "print(\"text1 匹配结果:\", re.search(pattern, text1))\n",
    "print(\"text2 匹配结果:\", re.search(pattern, text2))"
   ]
  },
  {
   "cell_type": "markdown",
   "metadata": {},
   "source": [
    "- '\\d'匹配数字"
   ]
  },
  {
   "cell_type": "code",
   "execution_count": null,
   "metadata": {},
   "outputs": [],
   "source": [
    "import re\n",
    "\n",
    "text = \"18812344321\"\n",
    "\n",
    "# 匹配中国的个人手机号:一1开头，然后跟着10个数字\n",
    "pattern = r'1\\d\\d\\d\\d\\d\\d\\d\\d\\d\\d'\n",
    "print(\"text 匹配结果: \", re.match(pattern, text))"
   ]
  },
  {
   "cell_type": "markdown",
   "metadata": {},
   "source": [
    "- 正则表达式中的量词\n",
    "显然，上一个例子中，我们使用了连续10个`\\d`来匹配中国的个人手机号，这并不是一个简洁和灵活的正则表达式。我们可以使用量词来简化这个正则表达式。\n",
    "量词的具体用法如下\n",
    "    - `*`：匹配前面的字符零次或多次。例如，`a*` 可以匹配空字符串、`a`、`aa` 等。\n",
    "    - `+`：匹配前面的字符一次或多次。例如，`a+` 可以匹配 `a`、`aa`、`aaa` 等。\n",
    "    - `?`：匹配前面的字符零次或一次。例如，`a?` 可以匹配空字符串或 `a`。\n",
    "    - `{n}`：匹配前面的字符恰好 `n` 次。例如，`a{3}` 可以匹配 `aaa`。\n",
    "    - `{n,}`：匹配前面的字符至少 `n` 次。例如，`a{2,}` 可以匹配 `aa`、`aaa`、`aaaa` 等。\n",
    "    - `{n,m}`：匹配前面的字符至少 `n` 次，至多 `m` 次。例如，`a{2,4}` 可以匹配 `aa`、`aaa` 或 `aaaa`。\n",
    "\n",
    "结合上一个例子，我们可以使用 `r'1\\d{10}'` 来匹配中国的个人手机号。"
   ]
  },
  {
   "cell_type": "code",
   "execution_count": null,
   "metadata": {},
   "outputs": [],
   "source": [
    "import re\n",
    "\n",
    "text = \"18812344321\"\n",
    "\n",
    "pattern = r'1\\d{10}'\n",
    "print(\"text的匹配结果: \", re.match(pattern, text))"
   ]
  },
  {
   "cell_type": "markdown",
   "metadata": {},
   "source": [
    "- `\\s`匹配任意的空白符，包括空格，制表符(Tab)，换行符，中文全角空格等。\n",
    "- `\\w`匹配字母或数字或下划线或汉字"
   ]
  },
  {
   "cell_type": "markdown",
   "metadata": {},
   "source": [
    "## 测试正则表达式\n",
    "使用在线网站编写和测试正则表达式: [wegester](https://deerchao.cn/tools/wegester/)\n",
    "\n",
    "![](https://raw.githubusercontent.com/ZhouQiang19980220/picgo-images/main/20240730202310.png)"
   ]
  },
  {
   "cell_type": "markdown",
   "metadata": {},
   "source": [
    "- `\\ba\\w*\\b`: 匹配以字母 `a` 开头的单词，例如 `apple`、`application` 等。\n",
    "- `\\d+`匹配1个或更多连续的数字。\n",
    "- `\\b\\w{6}\\b`: 匹配6个字符的单词。\n",
    "\n",
    "常见的元字符总结为下表\n",
    "\n",
    "![](https://raw.githubusercontent.com/ZhouQiang19980220/picgo-images/main/20240730203005.png)"
   ]
  },
  {
   "cell_type": "markdown",
   "metadata": {},
   "source": [
    "## 字符转义\n",
    "如果你想查找元字符本身的话，比如你查找`.`或者`*`,就出现了问题：你没办法指定它们，因为它们会被解释成别的意思。\n",
    "这时你就得使用`\\`来取消这些字符的特殊意义。因此，你应该使用`\\.`和`\\*`。当然，要查找`\\`本身，你也得用`\\\\`。\n",
    "\n",
    "例如：`deerchao\\.cn`匹配'deerchao.cn'，`C:\\\\Windows`匹配`C:\\Windows`。"
   ]
  },
  {
   "cell_type": "markdown",
   "metadata": {},
   "source": [
    "## 字符类\n",
    "要想查找数字，字母或数字，空白是很简单的，因为已经有了对应这些字符集合的元字符，但是如果你想匹配没有预定义元字符的字符集合(比如元音字母a,e,i,o,u),应该怎么办？\n",
    "\n",
    "很简单，你只需要在方括号里列出它们就行了，像[aeiou]就匹配任何一个英文元音字母，[.?!]匹配标点符号(.或?或!)。\n",
    "\n",
    "我们也可以轻松地指定一个字符范围，像[0-9]代表的含意与\\d就是完全一致的：一位数字；同理[a-z0-9A-Z_]也完全等同于\\w（如果只考虑英文的话）。"
   ]
  },
  {
   "cell_type": "markdown",
   "metadata": {},
   "source": [
    "# TODO\n",
    "- 分枝条件\n",
    "- 分组\n",
    "- 反义\n",
    "- 后向引用\n",
    "- 零宽断言\n",
    "- 负向零宽断言\n",
    "- 注释\n",
    "- 贪婪与懒惰\n",
    "- 处理选项\n",
    "- 平衡组/递归匹配\n"
   ]
  },
  {
   "cell_type": "markdown",
   "metadata": {},
   "source": [
    "## 参考资料\n",
    "> [正则表达式30分钟入门教程](https://deerchao.cn/tutorials/regex/regex.htm)"
   ]
  }
 ],
 "metadata": {
  "kernelspec": {
   "display_name": "base",
   "language": "python",
   "name": "python3"
  },
  "language_info": {
   "codemirror_mode": {
    "name": "ipython",
    "version": 3
   },
   "file_extension": ".py",
   "mimetype": "text/x-python",
   "name": "python",
   "nbconvert_exporter": "python",
   "pygments_lexer": "ipython3",
   "version": "3.9.12"
  }
 },
 "nbformat": 4,
 "nbformat_minor": 2
}
